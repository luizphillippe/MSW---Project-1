{
 "cells": [
  {
   "cell_type": "markdown",
   "source": [
    "# 1. Introduction\n",
    "\n",
    "This works aims to study a buoy's movements deployed in the coast of Rio Grande do Sul in Brazil.\n",
    "To do that we will analyse timeseries of measurement of heave motion.\n",
    "\n",
    "# 2. Part one: Analysis of individual waves\n",
    "\n",
    "In the first part of this project we are meant to calculate the mean, deviation, qurtoise"
   ],
   "metadata": {
    "collapsed": false
   }
  },
  {
   "cell_type": "code",
   "execution_count": 4,
   "outputs": [
    {
     "name": "stdout",
     "output_type": "stream",
     "text": [
      "Collecting pandas\n",
      "  Downloading pandas-1.3.4-cp39-cp39-win_amd64.whl (10.2 MB)\n",
      "Collecting pytz>=2017.3\n",
      "  Downloading pytz-2021.3-py2.py3-none-any.whl (503 kB)\n",
      "Requirement already satisfied: python-dateutil>=2.7.3 in d:\\luizp\\google drive\\ist\\1º período\\modelling of sea waves\\pythonproject\\venv\\lib\\site-packages (from pandas) (2.8.2)\n",
      "Requirement already satisfied: numpy>=1.17.3 in d:\\luizp\\google drive\\ist\\1º período\\modelling of sea waves\\pythonproject\\venv\\lib\\site-packages (from pandas) (1.21.3)\n",
      "Requirement already satisfied: six>=1.5 in d:\\luizp\\google drive\\ist\\1º período\\modelling of sea waves\\pythonproject\\venv\\lib\\site-packages (from python-dateutil>=2.7.3->pandas) (1.16.0)\n",
      "Installing collected packages: pytz, pandas\n",
      "Successfully installed pandas-1.3.4 pytz-2021.3\n"
     ]
    }
   ],
   "source": [
    "#! pip install numpy\n",
    "#! pip install scipy\n",
    "#! pip install pandas"
   ],
   "metadata": {
    "collapsed": false,
    "pycharm": {
     "name": "#%%\n"
    }
   }
  },
  {
   "cell_type": "code",
   "execution_count": 32,
   "outputs": [],
   "source": [
    "import pandas as pd\n",
    "import numpy as np\n",
    "\n",
    "sample = open(\"W200908030800.tsr\",'r')\n",
    "\n",
    "lines = sample.readlines()\n",
    "\n",
    "num_lines = len(lines)\n",
    "data = np.empty([len(lines),4])\n",
    "\n",
    "for i in range(3,num_lines):\n",
    "    line = lines[i].strip().split()\n",
    "\n",
    "    line_array = np.array(line, float)\n",
    "\n",
    "    data[i-3] = line_array\n",
    "\n",
    "\n",
    "\n",
    "\n",
    "\n"
   ],
   "metadata": {
    "collapsed": false,
    "pycharm": {
     "name": "#%%\n"
    }
   }
  }
 ],
 "metadata": {
  "kernelspec": {
   "display_name": "Python 3",
   "language": "python",
   "name": "python3"
  },
  "language_info": {
   "codemirror_mode": {
    "name": "ipython",
    "version": 2
   },
   "file_extension": ".py",
   "mimetype": "text/x-python",
   "name": "python",
   "nbconvert_exporter": "python",
   "pygments_lexer": "ipython2",
   "version": "2.7.6"
  }
 },
 "nbformat": 4,
 "nbformat_minor": 0
}